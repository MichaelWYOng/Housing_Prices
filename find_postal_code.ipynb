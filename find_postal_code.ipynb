{
 "cells": [
  {
   "cell_type": "code",
   "execution_count": null,
   "metadata": {},
   "outputs": [],
   "source": [
    "def find_postal(lst, filename):\n",
    "    '''With the block number and street name, get the full address of the hdb flat,\n",
    "    including the postal code, geogaphical coordinates (lat/long)'''\n",
    "    \n",
    "    for index,add in enumerate(lst):\n",
    "        # do not need to change the URL\n",
    "        url= \"https://developers.onemap.sg/commonapi/search?returnGeom=Y&getAddrDetails=Y&pageNum=1&searchVal=\"+add\n",
    "        print(index,url)\n",
    "        response = requests.get(url)\n",
    "        data = json.loads(response.text) \n",
    "    \n",
    "        temp_df = pd.DataFrame.from_dict(data[\"results\"])\n",
    "        temp_df[\"address\"] = add\n",
    "    \n",
    "        if index == 0:\n",
    "            file = temp_df\n",
    "        else:\n",
    "            file = file.append(temp_df)\n",
    "    file.to_csv(filename + '.csv')\n",
    "    "
   ]
  }
 ],
 "metadata": {
  "kernelspec": {
   "display_name": "Python 3",
   "language": "python",
   "name": "python3"
  },
  "language_info": {
   "codemirror_mode": {
    "name": "ipython",
    "version": 3
   },
   "file_extension": ".py",
   "mimetype": "text/x-python",
   "name": "python",
   "nbconvert_exporter": "python",
   "pygments_lexer": "ipython3",
   "version": "3.7.6"
  }
 },
 "nbformat": 4,
 "nbformat_minor": 4
}
